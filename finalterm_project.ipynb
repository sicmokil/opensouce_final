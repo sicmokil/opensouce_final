{
  "cells": [
    {
      "cell_type": "markdown",
      "id": "mobile-johns",
      "metadata": {
        "id": "mobile-johns"
      },
      "source": [
        "# Load Packages"
      ]
    },
    {
      "cell_type": "code",
      "execution_count": 1,
      "id": "cosmetic-bolivia",
      "metadata": {
        "id": "cosmetic-bolivia"
      },
      "outputs": [],
      "source": [
        "import sklearn.datasets\n",
        "import sklearn.linear_model\n",
        "import sklearn.tree\n",
        "import sklearn.ensemble\n",
        "import sklearn.model_selection\n",
        "import sklearn.metrics\n",
        "import numpy as np\n",
        "\n",
        "import matplotlib.pyplot as plt \n",
        "%matplotlib inline"
      ]
    },
    {
      "cell_type": "markdown",
      "id": "modern-columbia",
      "metadata": {
        "id": "modern-columbia"
      },
      "source": [
        "# Load Additional Packages (if you want to use other modules in Scikit Learn)"
      ]
    },
    {
      "cell_type": "code",
      "execution_count": 14,
      "id": "racial-growing",
      "metadata": {
        "id": "racial-growing"
      },
      "outputs": [],
      "source": [
        "# Load additional scikit learn packages! if you need\n",
        "import sklearn.naive_bayes\n",
        "import sklearn.neighbors\n",
        "import sklearn.neural_network\n",
        "import sklearn\n",
        "import sklearn.svm\n",
        "import sklearn.utils\n",
        "import sklearn.semi_supervised"
      ]
    },
    {
      "cell_type": "markdown",
      "id": "immediate-briefs",
      "metadata": {
        "id": "immediate-briefs"
      },
      "source": [
        "# Load Data Points (Do not modify the following block)"
      ]
    },
    {
      "cell_type": "code",
      "execution_count": 3,
      "id": "surgical-background",
      "metadata": {
        "scrolled": false,
        "colab": {
          "base_uri": "https://localhost:8080/",
          "height": 1000
        },
        "id": "surgical-background",
        "outputId": "c1bf1b83-5edc-48eb-b472-914a6f6e8807"
      },
      "outputs": [
        {
          "output_type": "stream",
          "name": "stdout",
          "text": [
            "downloading Olivetti faces from https://ndownloader.figshare.com/files/5976027 to /root/scikit_learn_data\n",
            ".. _olivetti_faces_dataset:\n",
            "\n",
            "The Olivetti faces dataset\n",
            "--------------------------\n",
            "\n",
            "`This dataset contains a set of face images`_ taken between April 1992 and \n",
            "April 1994 at AT&T Laboratories Cambridge. The\n",
            ":func:`sklearn.datasets.fetch_olivetti_faces` function is the data\n",
            "fetching / caching function that downloads the data\n",
            "archive from AT&T.\n",
            "\n",
            ".. _This dataset contains a set of face images: http://www.cl.cam.ac.uk/research/dtg/attarchive/facedatabase.html\n",
            "\n",
            "As described on the original website:\n",
            "\n",
            "    There are ten different images of each of 40 distinct subjects. For some\n",
            "    subjects, the images were taken at different times, varying the lighting,\n",
            "    facial expressions (open / closed eyes, smiling / not smiling) and facial\n",
            "    details (glasses / no glasses). All the images were taken against a dark\n",
            "    homogeneous background with the subjects in an upright, frontal position \n",
            "    (with tolerance for some side movement).\n",
            "\n",
            "**Data Set Characteristics:**\n",
            "\n",
            "    =================   =====================\n",
            "    Classes                                40\n",
            "    Samples total                         400\n",
            "    Dimensionality                       4096\n",
            "    Features            real, between 0 and 1\n",
            "    =================   =====================\n",
            "\n",
            "The image is quantized to 256 grey levels and stored as unsigned 8-bit \n",
            "integers; the loader will convert these to floating point values on the \n",
            "interval [0, 1], which are easier to work with for many algorithms.\n",
            "\n",
            "The \"target\" for this database is an integer from 0 to 39 indicating the\n",
            "identity of the person pictured; however, with only 10 examples per class, this\n",
            "relatively small dataset is more interesting from an unsupervised or\n",
            "semi-supervised perspective.\n",
            "\n",
            "The original dataset consisted of 92 x 112, while the version available here\n",
            "consists of 64x64 images.\n",
            "\n",
            "When using these images, please give credit to AT&T Laboratories Cambridge.\n",
            "\n"
          ]
        },
        {
          "output_type": "display_data",
          "data": {
            "image/png": "[encoded data removed]",
            "text/plain": [
              "<Figure size 432x288 with 1 Axes>"
            ]
          },
          "metadata": {
            "needs_background": "light"
          }
        },
        {
          "output_type": "display_data",
          "data": {
            "image/png": "[encoded data removed]",
            "text/plain": [
              "<Figure size 432x288 with 1 Axes>"
            ]
          },
          "metadata": {
            "needs_background": "light"
          }
        },
        {
          "output_type": "display_data",
          "data": {
            "image/png": "[encoded data removed]",
            "text/plain": [
              "<Figure size 432x288 with 1 Axes>"
            ]
          },
          "metadata": {
            "needs_background": "light"
          }
        },
        {
          "output_type": "display_data",
          "data": {
            "image/png": "[encoded data removed]",
            "text/plain": [
              "<Figure size 432x288 with 1 Axes>"
            ]
          },
          "metadata": {
            "needs_background": "light"
          }
        }
      ],
      "source": [
        "olivetti_faces = sklearn.datasets.fetch_olivetti_faces(random_state=0,)\n",
        "print(olivetti_faces['DESCR'])\n",
        "\n",
        "example_indices = [0, 10, 62, 70]\n",
        "for idx in example_indices:\n",
        "    plt.title(olivetti_faces['target'][idx])\n",
        "    plt.imshow(olivetti_faces['images'][idx])\n",
        "    plt.gray()\n",
        "    plt.show()\n",
        "    \n",
        "X = olivetti_faces['data']\n",
        "y = olivetti_faces['target']\n",
        "X_train, X_test, y_train, y_test = sklearn.model_selection.train_test_split(X, y, test_size=0.3, random_state=0)"
      ]
    },
    {
      "cell_type": "markdown",
      "id": "isolated-airfare",
      "metadata": {
        "id": "isolated-airfare"
      },
      "source": [
        "# Classification with Scikit Learn Library (Programming Assignment)\n",
        "### Variable Explanation (Do not change variable names)\n",
        "- 'olivetti_faces' is a variable containing a set of face images\n",
        "- 'X_train' is feature vectors of training dataset\n",
        "- 'y_train' is target labels of training dataset\n",
        "- 'X_test' is feature vectors of test dataset\n",
        "- 'y_test' is target labels of test dataset\n",
        "- 'y_pred' was initialized as zero vectors and fill 'y_pred' with predicted labels\n",
        "\n",
        "### Find the best model and hyperparameter for face recognition"
      ]
    },
    {
      "cell_type": "code",
      "source": [
        "y_train"
      ],
      "metadata": {
        "colab": {
          "base_uri": "https://localhost:8080/"
        },
        "id": "l3r-INFXv2vj",
        "outputId": "8de678e3-a982-4cc2-b0ff-8b942a27a8aa"
      },
      "id": "l3r-INFXv2vj",
      "execution_count": null,
      "outputs": [
        {
          "output_type": "execute_result",
          "data": {
            "text/plain": [
              "array([ 9, 22, 23, 23, 37, 14,  2, 25, 35, 16, 15, 39,  6, 24, 21, 10, 31,\n",
              "       19, 32,  1, 16, 18,  3, 11, 26, 10, 35, 24, 23, 11, 33, 12, 28, 11,\n",
              "       21, 13, 27, 12, 19, 29, 28, 13,  3, 37, 16,  3, 23,  9,  8,  6, 16,\n",
              "       28, 20, 39, 23, 28, 10,  4, 32, 39, 22,  7, 13, 38, 22, 21,  2, 18,\n",
              "       36, 27,  5, 32, 35,  2,  0, 21, 15, 21, 37, 22, 13, 23, 21, 27, 27,\n",
              "       30, 23,  3, 20, 39,  6,  2, 33,  4, 24, 12,  9, 11, 16, 38, 38, 34,\n",
              "        4,  1, 28,  7, 24, 39,  7,  1, 36, 21, 38, 38, 22, 16, 10, 16,  8,\n",
              "       18, 39, 11, 25, 18, 20, 37, 11, 14, 15, 15,  1, 26,  7, 10, 32, 20,\n",
              "       31, 13, 23, 31, 24, 30,  1, 22, 30,  0, 27, 12,  7, 18, 30, 37, 34,\n",
              "       18, 35,  8, 25,  1, 29,  8, 26,  3, 38,  5,  4, 27,  5, 20, 31, 31,\n",
              "       33, 12, 22,  6, 30, 13, 18,  2,  4,  0, 20, 33,  9, 38, 17, 25,  9,\n",
              "       36,  9, 35, 16,  6, 30,  4, 20, 27, 22, 14, 14, 18, 13, 35, 39, 26,\n",
              "       32, 20,  8, 12, 34, 36,  9,  8, 26, 11, 29,  5, 32, 25, 35,  4, 10,\n",
              "       36, 27, 35,  3,  5, 34, 12, 29,  2, 18, 16, 15, 24, 20,  3,  3, 12,\n",
              "       18, 37, 28, 36, 14, 28, 37, 17,  9, 33, 33, 19, 24, 11, 26,  7, 33,\n",
              "        2, 16, 33, 38, 17, 38,  3, 19, 31,  8,  7,  8, 29, 24, 27, 21,  0,\n",
              "       35, 19, 25, 32, 19, 11,  4, 17])"
            ]
          },
          "metadata": {},
          "execution_count": 26
        }
      ]
    },
    {
      "cell_type": "code",
      "source": [
        "clf_log = sklearn.linear_model.LogisticRegression(tol= .00001, max_iter= 1000, random_state= 0)\n",
        "clf_log.fit(X_train, y_train)\n",
        "clf_log_pred = clf_log.predict(X_test)\n",
        "\n",
        "print(\"%.4f\" % sklearn.metrics.accuracy_score(y_test, clf_log_pred))"
      ],
      "metadata": {
        "colab": {
          "base_uri": "https://localhost:8080/"
        },
        "id": "3axmtdRxiay6",
        "outputId": "41870a62-b5b6-489a-ae9f-0aec22509050"
      },
      "id": "3axmtdRxiay6",
      "execution_count": 20,
      "outputs": [
        {
          "output_type": "stream",
          "name": "stdout",
          "text": [
            "0.9500\n"
          ]
        },
        {
          "output_type": "stream",
          "name": "stderr",
          "text": [
            "/usr/local/lib/python3.7/dist-packages/sklearn/linear_model/_logistic.py:818: ConvergenceWarning: lbfgs failed to converge (status=1):\n",
            "STOP: TOTAL NO. of ITERATIONS REACHED LIMIT.\n",
            "\n",
            "Increase the number of iterations (max_iter) or scale the data as shown in:\n",
            "    https://scikit-learn.org/stable/modules/preprocessing.html\n",
            "Please also refer to the documentation for alternative solver options:\n",
            "    https://scikit-learn.org/stable/modules/linear_model.html#logistic-regression\n",
            "  extra_warning_msg=_LOGISTIC_SOLVER_CONVERGENCE_MSG,\n"
          ]
        }
      ]
    },
    {
      "cell_type": "code",
      "source": [
        "clf_MLP = sklearn.neural_network.MLPClassifier(activation= \"logistic\", max_iter= 10000, tol= .00001,warm_start= True ,learning_rate= \"adaptive\", n_iter_no_change= 100, random_state= 0)\n",
        "clf_MLP.fit(X_train, y_train)\n",
        "clf_MLP_pred = clf_MLP.predict(X_test)\n",
        "\n",
        "print(\"%.4f\" % sklearn.metrics.accuracy_score(y_test, clf_MLP_pred))"
      ],
      "metadata": {
        "colab": {
          "base_uri": "https://localhost:8080/"
        },
        "id": "wD7zx0Q4ibmH",
        "outputId": "92e44398-1ddf-49da-8272-5ed7752a1aae"
      },
      "id": "wD7zx0Q4ibmH",
      "execution_count": 21,
      "outputs": [
        {
          "output_type": "stream",
          "name": "stdout",
          "text": [
            "0.9500\n"
          ]
        }
      ]
    },
    {
      "cell_type": "code",
      "source": [
        "clf_rf = sklearn.ensemble.RandomForestClassifier(warm_start= True,random_state= 0)\n",
        "clf_rf.fit(X_train, y_train)\n",
        "clf_rf_pred = clf_rf.predict(X_test)\n",
        "\n",
        "print(\"%.4f\" % sklearn.metrics.accuracy_score(y_test, clf_rf_pred))"
      ],
      "metadata": {
        "colab": {
          "base_uri": "https://localhost:8080/"
        },
        "id": "pfj3xXvoicA2",
        "outputId": "8d3998f3-a362-46f4-f6a6-f963793cee9e"
      },
      "id": "pfj3xXvoicA2",
      "execution_count": null,
      "outputs": [
        {
          "output_type": "stream",
          "name": "stdout",
          "text": [
            "0.8750\n"
          ]
        }
      ]
    },
    {
      "cell_type": "code",
      "source": [
        "clf_gb = sklearn.linear_model.PassiveAggressiveClassifier()\n",
        "clf_gb.fit(X_train, y_train)\n",
        "clf_gb_pred = clf_gb.predict(X_test)\n",
        "\n",
        "print(\"%.4f\" % sklearn.metrics.accuracy_score(y_test, clf_gb_pred))"
      ],
      "metadata": {
        "id": "dH6uecf8icaC",
        "colab": {
          "base_uri": "https://localhost:8080/"
        },
        "outputId": "5e0162b0-4bfb-43d9-d7e1-c17eb3792501"
      },
      "id": "dH6uecf8icaC",
      "execution_count": 29,
      "outputs": [
        {
          "output_type": "stream",
          "name": "stdout",
          "text": [
            "0.6667\n"
          ]
        }
      ]
    },
    {
      "cell_type": "code",
      "source": [
        "clf_dt = sklearn.svm.NuSVC(kernel = \"linear\", tol = .00001, random_state= 0)\n",
        "clf_dt.fit(X_train, y_train)\n",
        "clf_dt_pred = clf_dt.predict(X_test)\n",
        "\n",
        "print(\"%.4f\" % sklearn.metrics.accuracy_score(y_test, clf_dt_pred))"
      ],
      "metadata": {
        "id": "81bNQc1tidHJ",
        "colab": {
          "base_uri": "https://localhost:8080/"
        },
        "outputId": "6af13677-8638-4b5f-bde1-9dc88e3c79f7"
      },
      "id": "81bNQc1tidHJ",
      "execution_count": 35,
      "outputs": [
        {
          "output_type": "stream",
          "name": "stdout",
          "text": [
            "0.9250\n"
          ]
        }
      ]
    },
    {
      "cell_type": "code",
      "source": [
        "clf_xgb = sklearn.ensemble.ExtraTreesClassifier(max_depth= 40, criterion= \"gini\", n_estimators= 300, random_state= 0)\n",
        "clf_xgb.fit(X_train, y_train)\n",
        "clf_xgb_pred = clf_xgb.predict(X_test)\n",
        "\n",
        "print(\"%.4f\" % sklearn.metrics.accuracy_score(y_test, clf_xgb_pred))"
      ],
      "metadata": {
        "colab": {
          "base_uri": "https://localhost:8080/"
        },
        "id": "yijzMhPs7jQg",
        "outputId": "70718ed3-0315-4ebf-a682-5ee6f34fc75b"
      },
      "id": "yijzMhPs7jQg",
      "execution_count": 24,
      "outputs": [
        {
          "output_type": "stream",
          "name": "stdout",
          "text": [
            "0.9083\n"
          ]
        }
      ]
    },
    {
      "cell_type": "code",
      "source": [
        "clf_ada = sklearn.semi_supervised.SelfTrainingClassifier(clf_svm)\n",
        "clf_ada.fit(X_train, y_train)\n",
        "clf_ada_pred = clf_ada.predict(X_test)\n",
        "\n",
        "print(\"%.4f\" % sklearn.metrics.accuracy_score(y_test, clf_ada_pred))"
      ],
      "metadata": {
        "id": "NBLaOFLVidjp",
        "colab": {
          "base_uri": "https://localhost:8080/"
        },
        "outputId": "e503aaf0-a781-4936-8ba9-12b90b6d9e33"
      },
      "id": "NBLaOFLVidjp",
      "execution_count": 17,
      "outputs": [
        {
          "output_type": "stream",
          "name": "stderr",
          "text": [
            "/usr/local/lib/python3.7/dist-packages/sklearn/semi_supervised/_self_training.py:210: UserWarning: y contains no unlabeled samples\n",
            "  warnings.warn(\"y contains no unlabeled samples\", UserWarning)\n"
          ]
        },
        {
          "output_type": "stream",
          "name": "stdout",
          "text": [
            "0.9750\n"
          ]
        },
        {
          "output_type": "stream",
          "name": "stderr",
          "text": [
            "/usr/local/lib/python3.7/dist-packages/sklearn/svm/_base.py:1208: ConvergenceWarning: Liblinear failed to converge, increase the number of iterations.\n",
            "  ConvergenceWarning,\n"
          ]
        }
      ]
    },
    {
      "cell_type": "code",
      "source": [
        "clf_bgg = sklearn.ensemble.BaggingClassifier(sklearn.tree.DecisionTreeClassifier(),n_estimators=10, random_state= 0)\n",
        "clf_bgg.fit(X_train, y_train)\n",
        "clf_bgg_pred = clf_bgg.predict(X_test)\n",
        "\n",
        "print(\"%.4f\" % sklearn.metrics.accuracy_score(y_test, clf_bgg_pred))"
      ],
      "metadata": {
        "colab": {
          "base_uri": "https://localhost:8080/"
        },
        "id": "gK7F48jONS3E",
        "outputId": "737d3115-690d-468d-afa9-5fa48903a526"
      },
      "id": "gK7F48jONS3E",
      "execution_count": null,
      "outputs": [
        {
          "output_type": "stream",
          "name": "stdout",
          "text": [
            "0.5750\n"
          ]
        }
      ]
    },
    {
      "cell_type": "code",
      "source": [
        "clf_sgd = sklearn.linear_model.SGDClassifier(loss= \"perceptron\",penalty= \"l1\" ,warm_start= True ,max_iter= 5000, tol= .00001, random_state= 0)\n",
        "clf_sgd.fit(X_train, y_train)\n",
        "clf_sgd_pred = clf_sgd.predict(X_test)\n",
        "\n",
        "print(\"%.4f\" % sklearn.metrics.accuracy_score(y_test, clf_sgd_pred))"
      ],
      "metadata": {
        "colab": {
          "base_uri": "https://localhost:8080/"
        },
        "id": "Jq5UqOP_N9fw",
        "outputId": "5bffe806-d766-492a-ff94-726bc333adf8"
      },
      "id": "Jq5UqOP_N9fw",
      "execution_count": null,
      "outputs": [
        {
          "output_type": "stream",
          "name": "stdout",
          "text": [
            "0.8500\n"
          ]
        }
      ]
    },
    {
      "cell_type": "code",
      "source": [
        "clf_svm = sklearn.svm.LinearSVC(C= .1, tol= .00001 ,random_state= 0)\n",
        "clf_svm.fit(X_train, y_train)\n",
        "clf_svm_pred = clf_svm.predict(X_test)\n",
        "\n",
        "print(\"%.4f\" % sklearn.metrics.accuracy_score(y_test, clf_svm_pred))"
      ],
      "metadata": {
        "colab": {
          "base_uri": "https://localhost:8080/"
        },
        "id": "1F2gJ9p9R4im",
        "outputId": "1ca275ee-01fd-43ad-8a5c-9ff2a870579c"
      },
      "id": "1F2gJ9p9R4im",
      "execution_count": 16,
      "outputs": [
        {
          "output_type": "stream",
          "name": "stdout",
          "text": [
            "0.9750\n"
          ]
        },
        {
          "output_type": "stream",
          "name": "stderr",
          "text": [
            "/usr/local/lib/python3.7/dist-packages/sklearn/svm/_base.py:1208: ConvergenceWarning: Liblinear failed to converge, increase the number of iterations.\n",
            "  ConvergenceWarning,\n"
          ]
        }
      ]
    },
    {
      "cell_type": "code",
      "source": [
        "clf_rid = sklearn.linear_model.RidgeClassifier(alpha= .5, tol= .00001 ,random_state= 0)\n",
        "clf_rid.fit(X_train, y_train)\n",
        "clf_rid_pred = clf_rid.predict(X_test)\n",
        "\n",
        "print(\"%.4f\" % sklearn.metrics.accuracy_score(y_test, clf_rid_pred))"
      ],
      "metadata": {
        "colab": {
          "base_uri": "https://localhost:8080/"
        },
        "id": "dH-q7jeyXzZ_",
        "outputId": "0783a0d5-4c6f-4a78-ae1b-5d9847f964b6"
      },
      "id": "dH-q7jeyXzZ_",
      "execution_count": 25,
      "outputs": [
        {
          "output_type": "stream",
          "name": "stdout",
          "text": [
            "0.9333\n"
          ]
        }
      ]
    },
    {
      "cell_type": "code",
      "source": [
        "clf_svc = sklearn.svm.SVC(kernel = \"poly\", degree= 3,C= .1, probability= True, tol= .00001 ,random_state= 0)\n",
        "clf_svc.fit(X_train, y_train)\n",
        "clf_svc_pred = clf_svc.predict(X_test)\n",
        "\n",
        "print(\"%.4f\" % sklearn.metrics.accuracy_score(y_test, clf_svc_pred))"
      ],
      "metadata": {
        "colab": {
          "base_uri": "https://localhost:8080/"
        },
        "id": "vPgBneETkFxI",
        "outputId": "2c10eae9-8317-4775-9eba-989da41ddb25"
      },
      "id": "vPgBneETkFxI",
      "execution_count": 22,
      "outputs": [
        {
          "output_type": "stream",
          "name": "stdout",
          "text": [
            "0.9667\n"
          ]
        }
      ]
    },
    {
      "cell_type": "code",
      "source": [
        "clf_softvoting = sklearn.ensemble.VotingClassifier(estimators= [(\"svc\", clf_svc), (\"log\", clf_log), (\"mlp\", clf_mlp), ])\n",
        "\n",
        "clf_softvoting.fit(X_train, y_train)\n",
        "clf_softvoting_pred = clf_softvoting.predict(X_test)\n",
        "\n",
        "print(\"%.4f\" % sklearn.metrics.accuracy_score(y_test, clf_softvoting_pred))"
      ],
      "metadata": {
        "colab": {
          "base_uri": "https://localhost:8080/"
        },
        "id": "U5xZCJen_EjE",
        "outputId": "f55ede50-c5b1-4b02-ec84-ce96f9b7a5a5"
      },
      "id": "U5xZCJen_EjE",
      "execution_count": 27,
      "outputs": [
        {
          "output_type": "stream",
          "name": "stderr",
          "text": [
            "/usr/local/lib/python3.7/dist-packages/sklearn/linear_model/_logistic.py:818: ConvergenceWarning: lbfgs failed to converge (status=1):\n",
            "STOP: TOTAL NO. of ITERATIONS REACHED LIMIT.\n",
            "\n",
            "Increase the number of iterations (max_iter) or scale the data as shown in:\n",
            "    https://scikit-learn.org/stable/modules/preprocessing.html\n",
            "Please also refer to the documentation for alternative solver options:\n",
            "    https://scikit-learn.org/stable/modules/linear_model.html#logistic-regression\n",
            "  extra_warning_msg=_LOGISTIC_SOLVER_CONVERGENCE_MSG,\n"
          ]
        },
        {
          "output_type": "stream",
          "name": "stdout",
          "text": [
            "0.9500\n"
          ]
        }
      ]
    },
    {
      "cell_type": "code",
      "source": [
        "clf_svc = sklearn.svm.SVC(kernel = \"poly\", degree= 3,C= .1, probability= True, tol= .00001 ,random_state= 0)#96.6666\n",
        "clf_svm = sklearn.svm.LinearSVC(C= .1, tol= .00001 ,random_state= 0)#97.5\n",
        "clf_ssl = sklearn.semi_supervised.SelfTrainingClassifier(clf_svm)#97.5\n",
        "clf_nus = sklearn.svm.NuSVC(kernel = \"linear\", tol = .00001, random_state= 0)#92.5\n",
        "clf_log = sklearn.linear_model.LogisticRegression(tol= .00001, max_iter= 1000, random_state= 0)#95\n",
        "clf_mlp = sklearn.neural_network.MLPClassifier(activation= \"logistic\", max_iter= 10000, tol= .00001,warm_start= True ,learning_rate= \"adaptive\", n_iter_no_change= 100, random_state= 0) #95\n",
        "clf_rid = sklearn.linear_model.RidgeClassifier(alpha= .5, tol= .00001 ,random_state= 0)#93.3333\n",
        "clf_softvoting = sklearn.ensemble.VotingClassifier(estimators= [(\"svc\", clf_svc), (\"log\", clf_log), (\"mlp\", clf_mlp)], voting = \"soft\")\n",
        "\n",
        "clf_hardvoting = sklearn.ensemble.VotingClassifier(estimators=[(\"softvoting\", clf_softvoting), (\"svm\", clf_svm), (\"ssl\", clf_ssl), (\"rid\", clf_rid), (\"svc\", clf_svc), (\"log\", clf_log), (\"mlp\", clf_mlp), (\"nus\", clf_nus)], voting = \"hard\")\n",
        "clf_hardvoting.fit(X_train, y_train)\n",
        "clf_hardvoting_pred = clf_hardvoting.predict(X_test)\n",
        "\n",
        "print(\"%.4f\" % sklearn.metrics.accuracy_score(y_test, clf_hardvoting_pred))"
      ],
      "metadata": {
        "colab": {
          "base_uri": "https://localhost:8080/"
        },
        "id": "JyZY4OqvnNUl",
        "outputId": "8be823ef-6816-47d5-8e10-a119ae180b54"
      },
      "id": "JyZY4OqvnNUl",
      "execution_count": 39,
      "outputs": [
        {
          "output_type": "stream",
          "name": "stderr",
          "text": [
            "/usr/local/lib/python3.7/dist-packages/sklearn/linear_model/_logistic.py:818: ConvergenceWarning: lbfgs failed to converge (status=1):\n",
            "STOP: TOTAL NO. of ITERATIONS REACHED LIMIT.\n",
            "\n",
            "Increase the number of iterations (max_iter) or scale the data as shown in:\n",
            "    https://scikit-learn.org/stable/modules/preprocessing.html\n",
            "Please also refer to the documentation for alternative solver options:\n",
            "    https://scikit-learn.org/stable/modules/linear_model.html#logistic-regression\n",
            "  extra_warning_msg=_LOGISTIC_SOLVER_CONVERGENCE_MSG,\n",
            "/usr/local/lib/python3.7/dist-packages/sklearn/svm/_base.py:1208: ConvergenceWarning: Liblinear failed to converge, increase the number of iterations.\n",
            "  ConvergenceWarning,\n",
            "/usr/local/lib/python3.7/dist-packages/sklearn/semi_supervised/_self_training.py:210: UserWarning: y contains no unlabeled samples\n",
            "  warnings.warn(\"y contains no unlabeled samples\", UserWarning)\n",
            "/usr/local/lib/python3.7/dist-packages/sklearn/svm/_base.py:1208: ConvergenceWarning: Liblinear failed to converge, increase the number of iterations.\n",
            "  ConvergenceWarning,\n",
            "/usr/local/lib/python3.7/dist-packages/sklearn/linear_model/_logistic.py:818: ConvergenceWarning: lbfgs failed to converge (status=1):\n",
            "STOP: TOTAL NO. of ITERATIONS REACHED LIMIT.\n",
            "\n",
            "Increase the number of iterations (max_iter) or scale the data as shown in:\n",
            "    https://scikit-learn.org/stable/modules/preprocessing.html\n",
            "Please also refer to the documentation for alternative solver options:\n",
            "    https://scikit-learn.org/stable/modules/linear_model.html#logistic-regression\n",
            "  extra_warning_msg=_LOGISTIC_SOLVER_CONVERGENCE_MSG,\n"
          ]
        },
        {
          "output_type": "stream",
          "name": "stdout",
          "text": [
            "0.9917\n"
          ]
        }
      ]
    },
    {
      "cell_type": "code",
      "execution_count": 40,
      "id": "funded-playing",
      "metadata": {
        "id": "funded-playing",
        "colab": {
          "base_uri": "https://localhost:8080/"
        },
        "outputId": "59ca43fb-d5a6-4a7f-e465-84a9822bb8f4"
      },
      "outputs": [
        {
          "output_type": "stream",
          "name": "stderr",
          "text": [
            "/usr/local/lib/python3.7/dist-packages/sklearn/linear_model/_logistic.py:818: ConvergenceWarning: lbfgs failed to converge (status=1):\n",
            "STOP: TOTAL NO. of ITERATIONS REACHED LIMIT.\n",
            "\n",
            "Increase the number of iterations (max_iter) or scale the data as shown in:\n",
            "    https://scikit-learn.org/stable/modules/preprocessing.html\n",
            "Please also refer to the documentation for alternative solver options:\n",
            "    https://scikit-learn.org/stable/modules/linear_model.html#logistic-regression\n",
            "  extra_warning_msg=_LOGISTIC_SOLVER_CONVERGENCE_MSG,\n",
            "/usr/local/lib/python3.7/dist-packages/sklearn/svm/_base.py:1208: ConvergenceWarning: Liblinear failed to converge, increase the number of iterations.\n",
            "  ConvergenceWarning,\n",
            "/usr/local/lib/python3.7/dist-packages/sklearn/semi_supervised/_self_training.py:210: UserWarning: y contains no unlabeled samples\n",
            "  warnings.warn(\"y contains no unlabeled samples\", UserWarning)\n",
            "/usr/local/lib/python3.7/dist-packages/sklearn/svm/_base.py:1208: ConvergenceWarning: Liblinear failed to converge, increase the number of iterations.\n",
            "  ConvergenceWarning,\n",
            "/usr/local/lib/python3.7/dist-packages/sklearn/linear_model/_logistic.py:818: ConvergenceWarning: lbfgs failed to converge (status=1):\n",
            "STOP: TOTAL NO. of ITERATIONS REACHED LIMIT.\n",
            "\n",
            "Increase the number of iterations (max_iter) or scale the data as shown in:\n",
            "    https://scikit-learn.org/stable/modules/preprocessing.html\n",
            "Please also refer to the documentation for alternative solver options:\n",
            "    https://scikit-learn.org/stable/modules/linear_model.html#logistic-regression\n",
            "  extra_warning_msg=_LOGISTIC_SOLVER_CONVERGENCE_MSG,\n"
          ]
        }
      ],
      "source": [
        "#TODO\n",
        "#1. Create a classification object in scikit learn package (such as perceptron, logistic regression, or other classification algorithms)\n",
        "#2. Fit the object to training dataset\n",
        "#3. Predict the label of test data point (X_test)\n",
        "# - Do not change the variable name \"y_pred\"\n",
        "\n",
        "\n",
        "\n",
        "clf_svc = sklearn.svm.SVC(kernel = \"poly\", degree= 3,C= .1, probability= True, tol= .00001 ,random_state= 0)#96.6666\n",
        "clf_svm = sklearn.svm.LinearSVC(C= .1, tol= .00001 ,random_state= 0)#97.5\n",
        "clf_ssl = sklearn.semi_supervised.SelfTrainingClassifier(clf_svm)#97.5\n",
        "clf_nus = sklearn.svm.NuSVC(kernel = \"linear\", tol = .00001, random_state= 0)#92.5\n",
        "clf_log = sklearn.linear_model.LogisticRegression(tol= .00001, max_iter= 1000, random_state= 0)#95\n",
        "clf_mlp = sklearn.neural_network.MLPClassifier(activation= \"logistic\", max_iter= 10000, tol= .00001,warm_start= True ,learning_rate= \"adaptive\", n_iter_no_change= 100, random_state= 0) #95\n",
        "clf_rid = sklearn.linear_model.RidgeClassifier(alpha= .5, tol= .00001 ,random_state= 0)#93.3333\n",
        "clf_softvoting = sklearn.ensemble.VotingClassifier(estimators= [(\"svc\", clf_svc), (\"log\", clf_log), (\"mlp\", clf_mlp)], voting = \"soft\")\n",
        "\n",
        "clf_hardvoting = sklearn.ensemble.VotingClassifier(estimators=[(\"softvoting\", clf_softvoting), (\"svm\", clf_svm), (\"ssl\", clf_ssl), (\"rid\", clf_rid), (\"svc\", clf_svc), (\"log\", clf_log), (\"mlp\", clf_mlp), (\"nus\", clf_nus)], voting = \"hard\")\n",
        "clf_hardvoting.fit(X_train, y_train)\n",
        "\n",
        "\n",
        "y_pred = np.zeros_like(y_test)\n",
        "y_pred = clf_hardvoting.predict(X_test)"
      ]
    },
    {
      "cell_type": "markdown",
      "id": "twenty-mistake",
      "metadata": {
        "id": "twenty-mistake"
      },
      "source": [
        "### Print accuracy (do not modify the following block)"
      ]
    },
    {
      "cell_type": "code",
      "execution_count": 41,
      "id": "alien-concert",
      "metadata": {
        "scrolled": true,
        "id": "alien-concert",
        "outputId": "036217d5-c21c-4db5-f195-22a8a4e55198",
        "colab": {
          "base_uri": "https://localhost:8080/"
        }
      },
      "outputs": [
        {
          "output_type": "stream",
          "name": "stdout",
          "text": [
            "Accuracy: 0.99\n"
          ]
        }
      ],
      "source": [
        "print('Accuracy: %.2f' % sklearn.metrics.accuracy_score(y_test, y_pred))"
      ]
    }
  ],
  "metadata": {
    "kernelspec": {
      "display_name": "Python 3",
      "language": "python",
      "name": "python3"
    },
    "language_info": {
      "codemirror_mode": {
        "name": "ipython",
        "version": 3
      },
      "file_extension": ".py",
      "mimetype": "text/x-python",
      "name": "python",
      "nbconvert_exporter": "python",
      "pygments_lexer": "ipython3",
      "version": "3.9.2"
    },
    "colab": {
      "name": "$R64XY9L.ipynb의 사본",
      "provenance": [],
      "collapsed_sections": []
    }
  },
  "nbformat": 4,
  "nbformat_minor": 5
}